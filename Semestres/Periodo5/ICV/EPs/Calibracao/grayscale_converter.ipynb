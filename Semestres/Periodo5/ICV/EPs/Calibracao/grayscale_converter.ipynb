{
 "cells": [
  {
   "cell_type": "markdown",
   "metadata": {},
   "source": [
    "# Imports"
   ]
  },
  {
   "cell_type": "code",
   "execution_count": 1,
   "metadata": {},
   "outputs": [],
   "source": [
    "import numpy as np\n",
    "import cv2"
   ]
  },
  {
   "cell_type": "markdown",
   "metadata": {},
   "source": [
    "# Definindo variáveis auxiliares"
   ]
  },
  {
   "cell_type": "code",
   "execution_count": 2,
   "metadata": {},
   "outputs": [],
   "source": [
    "# Define o número de imagens a serem processadas\n",
    "N_IMAGES = 10\n",
    "\n",
    "# Define o nome das imagens (devem ser iguais)\n",
    "NAME_IMAGES = 'Image'\n",
    "\n",
    "# Define a terminação das imagens\n",
    "TERMINATION = '.jpg'\n",
    "\n",
    "# Define os caminhos de entrada e de output\n",
    "IN_PATH = 'Thiago/images/raw/'\n",
    "OUT_PATH = 'Thiago/images/grayscale/'"
   ]
  },
  {
   "cell_type": "markdown",
   "metadata": {},
   "source": [
    "# Código para converter uma imagem RGB para Grayscale"
   ]
  },
  {
   "cell_type": "code",
   "execution_count": 3,
   "metadata": {},
   "outputs": [],
   "source": [
    "imgs = []\n",
    "\n",
    "for i in range(1, N_IMAGES + 1):\n",
    "    # Lendo as imagens\n",
    "    img = cv2.imread(IN_PATH + NAME_IMAGES + str(i) + TERMINATION)\n",
    "    \n",
    "    # Definindo as alturas e alturas das novas imagens com rescale\n",
    "    scale_percent = 15\n",
    "    width = int(img.shape[1] * scale_percent / 100)\n",
    "    height = int(img.shape[0] * scale_percent / 100)\n",
    "    dim = (width, height)\n",
    "    \n",
    "    # Realizando o rescale e conversão\n",
    "    resized = cv2.resize(img, dim, interpolation = cv2.INTER_AREA)\n",
    "    gray = cv2.cvtColor(resized, cv2.COLOR_BGR2GRAY)\n",
    "    \n",
    "    # Salvando as imagens\n",
    "    cv2.imwrite(OUT_PATH + NAME_IMAGES + str(i) + TERMINATION, gray)"
   ]
  },
  {
   "cell_type": "code",
   "execution_count": null,
   "metadata": {},
   "outputs": [],
   "source": []
  }
 ],
 "metadata": {
  "kernelspec": {
   "display_name": "Python 3",
   "language": "python",
   "name": "python3"
  },
  "language_info": {
   "codemirror_mode": {
    "name": "ipython",
    "version": 3
   },
   "file_extension": ".py",
   "mimetype": "text/x-python",
   "name": "python",
   "nbconvert_exporter": "python",
   "pygments_lexer": "ipython3",
   "version": "3.5.6"
  }
 },
 "nbformat": 4,
 "nbformat_minor": 2
}
