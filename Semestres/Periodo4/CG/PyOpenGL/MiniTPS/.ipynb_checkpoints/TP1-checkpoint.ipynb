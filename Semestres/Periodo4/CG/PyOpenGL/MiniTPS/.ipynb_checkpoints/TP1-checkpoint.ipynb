{
 "cells": [
  {
   "cell_type": "markdown",
   "metadata": {},
   "source": [
    "# TP ponto extra 1"
   ]
  },
  {
   "cell_type": "markdown",
   "metadata": {},
   "source": [
    "- Aluno: Thiago Martin Poppe\n",
    "- Matricula: 2017014324"
   ]
  },
  {
   "cell_type": "markdown",
   "metadata": {},
   "source": [
    "### Introdução"
   ]
  },
  {
   "cell_type": "markdown",
   "metadata": {},
   "source": [
    "- Problema:  \"Escreva um programa em Python no Notebook para girar continuamente um\n",
    "pentágono ao redor de pontos arbitrários em uma janela. Escolha um botão\n",
    "do mouse para girar o pentágono no sentido horário e outro para girá-lo no\n",
    "sentido anti-horário e uma tecla do teclado para pará-lo.\"\n",
    "\n",
    "\n",
    "- Botões:\n",
    "    - O botão esquerdo do mouse irá girar o pentágono no sentido horário\n",
    "    - O botão direito do mouse irá girar o pentágono no sentido anti-horário\n",
    "    - A barra de espaço irá parar o pentágono na sua posição atual.\n",
    "    \n",
    "    \n",
    "- Obs.: Nessa documentação, iremos fragmentar o código em partes explicando qual a lógica usada por trás de cada uma delas"
   ]
  },
  {
   "cell_type": "markdown",
   "metadata": {},
   "source": [
    "### Imports utilizados"
   ]
  },
  {
   "cell_type": "markdown",
   "metadata": {},
   "source": [
    "Utilizamos os imports da OpenGL com os submódulos GL, GLU e GLUT para criar a tela, desenhar o pentágono, realizar transformações, entre outras coisas."
   ]
  },
  {
   "cell_type": "code",
   "execution_count": 1,
   "metadata": {},
   "outputs": [],
   "source": [
    "from OpenGL.GL import *\n",
    "from OpenGL.GLU import *\n",
    "from OpenGL.GLUT import *"
   ]
  },
  {
   "cell_type": "markdown",
   "metadata": {},
   "source": [
    "### Variáveis globais"
   ]
  },
  {
   "cell_type": "markdown",
   "metadata": {},
   "source": [
    "- Como variáveis globais, utilizamos basicamente 1 variável __boolean__ que é a variável __start__, que indica se o nosso pentágono começou a girar (ou seja, se já clicamos na tela ou se a barra de espaço foi pressionada para parar o mesmo).\n",
    "\n",
    "\n",
    "- Definimos também de forma global o tamanho da nossa janela, que terá 500px de largura e 500px de altura.\n",
    "\n",
    "\n",
    "- Teremos uma variável global __angle__ que indicará o ângulo de rotação do pentágono em dado momento. Juntamente com ela, teremos as variáveis __mx__ e __my__ que serão a posição (x, y) do nosso mouse, sendo essa a nova referência de rotação para o nosso pentágono.\n",
    "\n",
    "\n",
    "- Os nossos vértices serão armazenados em uma matriz chamada __vertices__ apenas para facilitar na hora de imprimir o polígono. "
   ]
  },
  {
   "cell_type": "code",
   "execution_count": 2,
   "metadata": {},
   "outputs": [],
   "source": [
    "# Definindo o nosso ângulo de rotação e sentido\n",
    "sentido = 1\n",
    "angle = 0\n",
    "\n",
    "# Definindo o tamanho da nossa janela\n",
    "width, height = 500, 500\n",
    "\n",
    "# Variáveis para a posição do mouse e para saber se começamos a animação de girar\n",
    "mx, my = 0, 0\n",
    "ax, ay = 250, 250\n",
    "start = 0\n",
    "\n",
    "# # Definindo os pontos do nosso pentágono\n",
    "vertices = [[-20, -20],  # x + 0 , y + 0\n",
    "            [ 20, -20],  # x + 40, y + 0\n",
    "            [ 30,  10],  # x + 50, y + 30\n",
    "            [  0,  30],  # x + 20, y + 50\n",
    "            [-30,  10]]  # x - 10, y + 30"
   ]
  },
  {
   "cell_type": "markdown",
   "metadata": {},
   "source": [
    "### Função update"
   ]
  },
  {
   "cell_type": "markdown",
   "metadata": {},
   "source": [
    "- Função callback para o procedimento glutTimerFunc()\n",
    "\n",
    "\n",
    "- Essa função será apenas para deixarmos a taxa de atualização da tela (refresh rate) similar a taxa de execução do nosso loop principal para evitarmos acelerações e/ou desacelerações inesperadas na nossa animação.\n",
    "\n",
    "\n",
    "- Também atualizaremos o nosso ângulo nessa função caso o nosso pentágono esteja rodando. A atualização é feita incrementando em 1 o ângulo atual, levando em consideração o sentido da rotação. Tiramos o módulo do ângulo por 360 visto que não há necessidade de termos valores maiores do que 360º ou menores do que -360º."
   ]
  },
  {
   "cell_type": "code",
   "execution_count": 3,
   "metadata": {},
   "outputs": [],
   "source": [
    "# Função callback para a nossa glutTimerFunc\n",
    "def update(value):\n",
    "    global angle\n",
    "\n",
    "    if start == 1:\n",
    "        angle += 1 * sentido\n",
    "        angle %= 360\n",
    "\n",
    "    glutPostRedisplay()\n",
    "    glutTimerFunc(10, update, 0)"
   ]
  },
  {
   "cell_type": "markdown",
   "metadata": {},
   "source": [
    "### Função init2D"
   ]
  },
  {
   "cell_type": "markdown",
   "metadata": {},
   "source": [
    "- Essa função nada mais é do que o ajuste da nossa projeção. Utilizamos uma projeção ortográfica visto que em 2D ambas projeções são equivalentes.\n",
    "\n",
    "\n",
    "- Sobre a nossa projeção, utilizamos os parâmetros:\n",
    "    - __left__ = 0.0\n",
    "    - __right__ = largura da janela\n",
    "    - __bottom__ = 0.0\n",
    "    - __top__ = altura da janela\n",
    "    - __near__ = 0.0\n",
    "    - __far__ = 1.0"
   ]
  },
  {
   "cell_type": "code",
   "execution_count": 4,
   "metadata": {},
   "outputs": [],
   "source": [
    "# Função de inicializar o nosso desenho em 2D (ajuste da projeção)\n",
    "def init2D():\n",
    "    glMatrixMode(GL_PROJECTION)\n",
    "    glLoadIdentity()\n",
    "    glOrtho(0.0, width, 0.0, height, 0.0, 1.0)"
   ]
  },
  {
   "cell_type": "markdown",
   "metadata": {},
   "source": [
    "### Função myRotate"
   ]
  },
  {
   "cell_type": "markdown",
   "metadata": {},
   "source": [
    "- Essa função nada mais é do que a transformação de rotação dado um eixo de rotação. O procedimento pode ser dividido em 3 partes:\n",
    "    1. Transladamos o nosso objeto para a posição (x, y, 0) da nossa janela.\n",
    "    1. Realizamos uma rotação em torno do eixo Z.\n",
    "    1. Voltamos o nosso objeto para a posição inicial, ou seja, transladamos para (-x, -y, 0) da nossa janela."
   ]
  },
  {
   "cell_type": "code",
   "execution_count": 5,
   "metadata": {},
   "outputs": [],
   "source": [
    "# Função que rotaciona o nosso pentágono dado um eixo de rotação\n",
    "def myRotate(x, y):\n",
    "    glTranslate(x, y, 0)\n",
    "    glRotate(angle, 0, 0, 1)\n",
    "    glTranslate(-x, -y, 0)"
   ]
  },
  {
   "cell_type": "markdown",
   "metadata": {},
   "source": [
    "### Funções callback para o mouse e teclado"
   ]
  },
  {
   "cell_type": "markdown",
   "metadata": {},
   "source": [
    "- A função mouseFunc será a callback para o procedimento glutMouseFunc; já a função keyboardFunc será a callback para o procedimento glutKeyboardFunc.\n",
    "\n",
    "\n",
    "- Função mouseFunc:\n",
    "    - Nela, teremos a verificação de qual botão foi pressionado (mudando assim o sentido da nossa rotação) e também caso o botão não esteja mais pressionado, igualamos nossas variáveis mx e my aos valores de x e y do nosso mouse naquele instante, respectivamente.\n",
    "    \n",
    "    \n",
    "- Função keyboardFunc:\n",
    "    - Nela, teremos a verificação de qual tecla foi pressionada. Caso a tecla seja a barra de espaço (representada por b' '), iremos igualar start a 0, ou seja, indicaremos que não haverá mais rotação.\n",
    "    \n",
    "    \n",
    "- __Obs.:__ Note que temos uma variável local chamada de correct_y. Usamos ela devido ao fato de que o eixo de coordenadas do nosso mouse não é o mesmo que o eixo de coordenadas da nossa tela. Então, para igualar os dois, tivemos que tirar a diferença da altura da nossa tela pelo y do mouse no seu eixo de coordenadas."
   ]
  },
  {
   "cell_type": "code",
   "execution_count": 6,
   "metadata": {},
   "outputs": [],
   "source": [
    "# Função callback que manipula os eventos do nosso mouse\n",
    "def mouseFunc(button, state, x, y):\n",
    "    global start, sentido, mx, my\n",
    "    correct_y = abs(y - height)\n",
    "\n",
    "    # Caso o botão esquerdo do mouse for solto\n",
    "    if button == GLUT_LEFT_BUTTON:\n",
    "        sentido = -1\n",
    "    \n",
    "    elif button == GLUT_RIGHT_BUTTON:\n",
    "        sentido = 1\n",
    "\n",
    "    if state == GLUT_UP:\n",
    "        start = 1\n",
    "        mx, my = x, correct_y\n",
    "\n",
    "# Função callback que manipula os eventos do teclado\n",
    "def keyboardFunc(key, x, y):\n",
    "    global start\n",
    "    if key == b' ':\n",
    "        start = 0"
   ]
  },
  {
   "cell_type": "markdown",
   "metadata": {},
   "source": [
    "### Função drawPentagon"
   ]
  },
  {
   "cell_type": "markdown",
   "metadata": {},
   "source": [
    "- Essa função cuidará da parte de desenhar o nosso pentágono na tela.\n",
    "\n",
    "\n",
    "- Iremos sempre chamar a nossa funçao myRotate, que terá o ângulo constante (start = 0) ou mutável (start = 1).\n",
    "\n",
    "\n",
    "- Optei por desenhar inicialmente o pentágono no centro da tela. Visto que os vértices foram escolhidos com base no seu centro disposto na origem do nosso sistema de coordenadas, basta transladarmos ele até o centro da tela para termos o resultado desejado."
   ]
  },
  {
   "cell_type": "code",
   "execution_count": 7,
   "metadata": {},
   "outputs": [],
   "source": [
    "# Função que desenha um pentágono\n",
    "def drawPentagon():\n",
    "    init2D()\n",
    "\n",
    "    myRotate(mx, my)\n",
    "    glTranslate(ax, ay, 0)\n",
    "    \n",
    "    glBegin(GL_POLYGON)\n",
    "    for v in vertices:\n",
    "        glVertex2fv(v)\n",
    "    glEnd()"
   ]
  },
  {
   "cell_type": "markdown",
   "metadata": {},
   "source": [
    "### Função draw"
   ]
  },
  {
   "cell_type": "markdown",
   "metadata": {},
   "source": [
    "- Essa função será a callback para os procedimentos glutIdleFunc e glutDisplayFunc que veremos na nossa função main.\n",
    "\n",
    "\n",
    "- Essa função nada mais é do que o loop principal do nosso programa. Os passos são:\n",
    "    1. Limpar a nossa tela.\n",
    "        - glClear(GL_COLOR_BUFFER_BIT)\n",
    "        - glLoadIdentity()\n",
    "        <br /> <br />\n",
    "        \n",
    "    2. Ler os inputs do nosso mouse e teclado.\n",
    "        - glutMouseFunc(mouseFunc)\n",
    "        - glutKeyboardFunc(keyboardFunc)\n",
    "        <br /> <br />\n",
    "        \n",
    "    3. Escolher uma cor e desenhar o pentágono (a cor escolhida foi a branca).\n",
    "        - glColor3f(1.0, 1.0, 1.0)\n",
    "        - drawPentagon()\n",
    "        <br /> <br />\n",
    "        \n",
    "    4. Fazer a troca dos buffers para exibir na tela o resultado.\n",
    "        - glutSwapBuffers()"
   ]
  },
  {
   "cell_type": "code",
   "execution_count": 8,
   "metadata": {},
   "outputs": [],
   "source": [
    "# Loop principal para realizar o desenho\n",
    "def draw():\n",
    "    glClear(GL_COLOR_BUFFER_BIT)\n",
    "    glLoadIdentity()\n",
    "\n",
    "    glutMouseFunc(mouseFunc)\n",
    "    glutKeyboardFunc(keyboardFunc)\n",
    "\n",
    "    glColor3f(1.0, 1.0, 1.0)\n",
    "    drawPentagon()\n",
    "\n",
    "    glutSwapBuffers()"
   ]
  },
  {
   "cell_type": "markdown",
   "metadata": {},
   "source": [
    "### Função main"
   ]
  },
  {
   "cell_type": "markdown",
   "metadata": {},
   "source": [
    "- Essa será a função chamada ao iniciarmos o nosso programa.\n",
    "\n",
    "\n",
    "- Nela temos os seguintes passos:\n",
    "    1. Inicialização do glut com a função glutInit().\n",
    "    1. Criação da nossa janela, juntamente com a definição de tamanho e onde a mesma irá ficar.\n",
    "    1. Chamada da função de timer com o callback \"update\".\n",
    "    1. Definimos a nossa função draw como a função que irá ficar em loop atráves da função glutIdleFunc().\n",
    "    1. Iniciamos o nosso loop com a função glutMainLoop()."
   ]
  },
  {
   "cell_type": "code",
   "execution_count": 9,
   "metadata": {},
   "outputs": [],
   "source": [
    "# Função principal\n",
    "def main():\n",
    "    glutInit()\n",
    "    glutInitDisplayMode(GLUT_SINGLE | GLUT_RGB)\n",
    "\n",
    "    glutInitWindowSize(width, height)\n",
    "    glutInitWindowPosition(0, 0)\n",
    "    glutCreateWindow('TP1')\n",
    "\n",
    "    glutTimerFunc(10, update, 0)\n",
    "    glutDisplayFunc(draw)\n",
    "    glutIdleFunc(draw)\n",
    "    glutMainLoop()"
   ]
  },
  {
   "cell_type": "markdown",
   "metadata": {},
   "source": [
    "- Para rodar o programa, execute a próxima célula.\n",
    "\n",
    "\n",
    "- Obs.: Por algum motivo, ao fecharmos a janela o nosso kernel morre. Basta reiniciarmos ele e exercutar todas as células novamente."
   ]
  },
  {
   "cell_type": "code",
   "execution_count": null,
   "metadata": {},
   "outputs": [],
   "source": [
    "# Chamando nossa funçao principal\n",
    "if __name__ == '__main__':\n",
    "    main()"
   ]
  },
  {
   "cell_type": "markdown",
   "metadata": {},
   "source": [
    "## Alguns pontos importantes"
   ]
  },
  {
   "cell_type": "markdown",
   "metadata": {},
   "source": [
    "- O programa não executou totalmente igual ao que foi proposto.\n",
    "\n",
    "\n",
    "- Sinto que o meu pentágono ainda está girando com base na sua posição inicial (centro da tela) e não na posição atual. Tentei pensar em várias formas de contornar esse problema mas nenhuma foi bem sucedida.\n",
    "\n",
    "\n",
    "- A ideia que chegou mais perto foi a de obter a posição final dele quando o mesmo parar de girar, ou seja, o usuário deveria parar o pentágono antes de mudar a referência de rotação do mesmo. Para tal, tentei chegar em equações que relacionasse os valores de (mx, my) com o ângulo e o ponto inicial do nosso pentágono, mas novamente, não funcionou.\n",
    "\n",
    "\n",
    "- Uma outra ideia foi aplicar a matriz de transformação em uma cópia da nossa matriz __vertices__, obtendo assim os nossos novos vértices a cada iteração. Porém, os valores obtidos não correspondiam aos valores esperados."
   ]
  }
 ],
 "metadata": {
  "kernelspec": {
   "display_name": "CG Kernel",
   "language": "python",
   "name": "cg"
  },
  "language_info": {
   "codemirror_mode": {
    "name": "ipython",
    "version": 3
   },
   "file_extension": ".py",
   "mimetype": "text/x-python",
   "name": "python",
   "nbconvert_exporter": "python",
   "pygments_lexer": "ipython3",
   "version": "3.6.8"
  }
 },
 "nbformat": 4,
 "nbformat_minor": 2
}
